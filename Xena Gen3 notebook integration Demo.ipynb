{
 "cells": [
  {
   "cell_type": "markdown",
   "metadata": {},
   "source": [
    "# Install xenaPython"
   ]
  },
  {
   "cell_type": "code",
   "execution_count": null,
   "metadata": {},
   "outputs": [],
   "source": [
    "import sys\n",
    "# you can install xenaPython using the line below from our latest gen3 branch code on github\n",
    "!{sys.executable} -m pip install --upgrade --force-reinstall https://github.com/ucscXena/xenaPython/archive/gen3.zip\n",
    "\n",
    "# Install the following packages for converting Scanpy analysis results to tsv matrix files which can be ingested \n",
    "# into Xena\n",
    "# Currently pip install from pypi.org run into SSL connection error on Gen3, so it is commented out.\n",
    "# For the same reason, we are using premade demo Xena input files, instead of taking a Scanpy analysis result object \n",
    "# and convert it into Xena input files \n",
    "\n",
    "# !{sys.executable} -m pip install scanpy loompy cellbrowser"
   ]
  },
  {
   "cell_type": "markdown",
   "metadata": {},
   "source": [
    "# Demo use case: run a Scanpy single cell RNA-seq analysis, convert analysis results to Xena input files"
   ]
  },
  {
   "cell_type": "markdown",
   "metadata": {},
   "source": [
    "A biologist runs Scanpy single-cell RNA-seq analsysis, convert analysis results to two tsv matrix files and two json files using xenaPython.convert. These files are \n",
    "- exprMatrix.tsv\n",
    "- exprMatrix.tsv.json\n",
    "- meta.tsv\n",
    "- meta.tsv.json\n",
    "\n",
    "Use the following comands to download these demo files here (https://raw.githubusercontent.com/ucscXena/tmpdownload/master/Diff-Fetal-Neuron-SS2.tar.gz),  uncompress them to dir 'Diff-Fetal-Neuron-SS', and move them to your Xena Hub's document root directory ($XENA_HOME/xena/files)\n",
    "\n",
    "If you actually run a Scanpy analysis, say your results is saved in a python object called 'adata', the object can be directly converted to Xena input matrix files by using \n",
    "xenaPython.convert.adataToXena(adata, path, studyname)"
   ]
  },
  {
   "cell_type": "code",
   "execution_count": null,
   "metadata": {},
   "outputs": [],
   "source": [
    "!curl -O https://raw.githubusercontent.com/ucscXena/tmpdownload/master/Diff-Fetal-Neuron-SS2.tar.gz\n",
    "!tar -xvhf Diff-Fetal-Neuron-SS2.tar.gz\n",
    "!mv Diff-Fetal-Neuron-SS2 xena/files"
   ]
  },
  {
   "cell_type": "markdown",
   "metadata": {},
   "source": [
    "# Initiate user's own Xena Hub on Gen3"
   ]
  },
  {
   "cell_type": "markdown",
   "metadata": {},
   "source": [
    "Start user's Xena Hub in Gen3 notebook runtime environment"
   ]
  },
  {
   "cell_type": "code",
   "execution_count": null,
   "metadata": {},
   "outputs": [],
   "source": [
    "import os, xenaPython\n",
    "os.environ[\"XENA_HOME\"] = os.getcwd()\n",
    "#%load_ext xenaPython\n",
    "# if you Restart Kernal, you need to reload the page, and then run %load_ext xenaPython\n",
    "# if you reload the page, you need run %reload_ext xenaPython\n",
    "%reload_ext xenaPython"
   ]
  },
  {
   "cell_type": "markdown",
   "metadata": {},
   "source": [
    "# Load data files into your Gen3 Xena Hub"
   ]
  },
  {
   "cell_type": "code",
   "execution_count": null,
   "metadata": {},
   "outputs": [],
   "source": [
    "xenaPython.load_file(\"Diff-Fetal-Neuron-SS2/exprMatrix.tsv\")\n",
    "xenaPython.load_file(\"Diff-Fetal-Neuron-SS2/meta.tsv\")"
   ]
  },
  {
   "cell_type": "markdown",
   "metadata": {},
   "source": [
    "# Visualize user's data in Gen3 on Xena Browser"
   ]
  },
  {
   "cell_type": "markdown",
   "metadata": {},
   "source": [
    "A pre-defined 2 column view of the data on the Xena Browser"
   ]
  },
  {
   "cell_type": "code",
   "execution_count": null,
   "metadata": {},
   "outputs": [],
   "source": [
    "import xenaPython\n",
    "col1 = {'name': 'Diff-Fetal-Neuron-SS2/meta.tsv', 'fields': 'annotated_cell_identity.ontology_label'};\n",
    "col2 = {'name': 'Diff-Fetal-Neuron-SS2/exprMatrix.tsv',\n",
    "        'fields': 'ENSG00000258947|TUBB3 ENSG00000167552|TUBA1A ENSG00000167553|TUBA1C \\\n",
    "        ENSG00000104435|STMN2 ENSG00000176887|SOX11 ENSG00000225783|MIAT ENSG00000117632|STMN1 \\\n",
    "        ENSG00000144834|TAGLN3'};\n",
    "\n",
    "xenaPython.open_browser(columns = [col1, col2])"
   ]
  },
  {
   "cell_type": "markdown",
   "metadata": {},
   "source": [
    "Use the Xena Browser wizard to build a view. First select the study **'Diff-Fetal-Neuron-SS2'**, then follow the wizard. The study name is defined by the user when they built the Xena input files"
   ]
  },
  {
   "cell_type": "code",
   "execution_count": null,
   "metadata": {},
   "outputs": [],
   "source": [
    "xenaPython.open_browser()"
   ]
  },
  {
   "cell_type": "markdown",
   "metadata": {},
   "source": [
    "# When you restart your workspace"
   ]
  },
  {
   "attachments": {},
   "cell_type": "markdown",
   "metadata": {},
   "source": [
    "Your Gen3 Xena hub is running on the workspace runtime VM. If you terminate your workspace, your hub will also be shutdown.<br><br> Since the \"pd\" directory is persistent, we set XENA_HOME = \"pd\" (which is current working directory in this case). The database is a single file, saved in xena home directory as XENA_HOME/xena/files/$DB.. Later when you restart your workspace, you get a clean environment where xenaPython is not installed yet.  You still need to install the xenaPython packages, but you don't need to reload the data. You need to run the following to install xenaPython, restart your hub and view the data that is already in the existing database. "
   ]
  },
  {
   "cell_type": "code",
   "execution_count": null,
   "metadata": {},
   "outputs": [],
   "source": [
    "# install xenaPython using the line below from our code repo on github\n",
    "!{sys.executable} -m pip install --upgrade --force-redirectory install https://github.com/ucscXena/xenaPython/archive/gen3.zip"
   ]
  },
  {
   "cell_type": "code",
   "execution_count": null,
   "metadata": {},
   "outputs": [],
   "source": [
    "# start your Xena Hub\n",
    "import os, xenaPython\n",
    "os.environ[\"XENA_HOME\"] = os.getcwd()\n",
    "%load_ext xenaPython"
   ]
  },
  {
   "cell_type": "code",
   "execution_count": null,
   "metadata": {},
   "outputs": [],
   "source": [
    "# open Xena Browser\n",
    "xenaPython.open_browser()"
   ]
  },
  {
   "cell_type": "markdown",
   "metadata": {},
   "source": [
    "**Since you are the only one has access to the runtime VM, you are the only one has access to the hub.**  The database file is saved in your pd directory, you are the only one have access to the database file."
   ]
  }
 ],
 "metadata": {
  "kernelspec": {
   "display_name": "Python 3",
   "language": "python",
   "name": "python3"
  },
  "language_info": {
   "codemirror_mode": {
    "name": "ipython",
    "version": 3
   },
   "file_extension": ".py",
   "mimetype": "text/x-python",
   "name": "python",
   "nbconvert_exporter": "python",
   "pygments_lexer": "ipython3",
   "version": "3.7.6"
  },
  "toc": {
   "base_numbering": 1,
   "nav_menu": {},
   "number_sections": true,
   "sideBar": true,
   "skip_h1_title": false,
   "title_cell": "Table of Contents",
   "title_sidebar": "Contents",
   "toc_cell": false,
   "toc_position": {},
   "toc_section_display": true,
   "toc_window_display": false
  }
 },
 "nbformat": 4,
 "nbformat_minor": 4
}
